{
 "cells": [
  {
   "cell_type": "code",
   "execution_count": 9,
   "metadata": {},
   "outputs": [
    {
     "name": "stdout",
     "output_type": "stream",
     "text": [
      "Enter Keyword/Tag to search about: gdg delhi\n",
      "Enter how many tweets to search: 100\n",
      "How people are reacting on gdg delhi by analyzing 100 Tweets\n",
      "Neutral\n"
     ]
    },
    {
     "data": {
      "image/png": "[encoded data removed]",
      "text/plain": [
       "<Figure size 432x288 with 1 Axes>"
      ]
     },
     "metadata": {},
     "output_type": "display_data"
    }
   ],
   "source": [
    "from textblob import TextBlob\n",
    "import sys, tweepy\n",
    "import matplotlib.pyplot as plt\n",
    " \n",
    "    \n",
    "#This is the function to calculate the percentage    \n",
    "def percentage(part, whole):\n",
    "    return 100 * float(part)/float(whole)\n",
    "\n",
    "#Connection for the twitter API\n",
    "consumerKey = 'tkDJ3Xbn6mio5mDUELphZHHhd'\n",
    "consumerSecret = '9n9lcHhtZQ74Vl5CuOFe71apu8Qq9AQH7vlzTU8k55hcwwZLiw'\n",
    "accessToken = '784456173697150976-4ThUEH3ziqAtKGSgBcYUz0oEbfStnqG'\n",
    "accessTokenSecret = 'DD3ltOHLVopp3eVgEtNKY6d70aNJ7v7tamacdyLfEbOfL'\n",
    "    \n",
    "# create an object so that we can use the API\n",
    "auth = tweepy.OAuthHandler(consumerKey, consumerSecret)\n",
    "auth.set_access_token(accessToken, accessTokenSecret)\n",
    "api = tweepy.API(auth)\n",
    "\n",
    "#This is for the keyword/tag we want to search and how many tweets we want to search\n",
    "searchTerm = input(\"Enter Keyword/Tag to search about: \")\n",
    "NoOfTerms = int(input(\"Enter how many tweets to search: \"))\n",
    "\n",
    "#Here,the search tweets stored in tweets variable   \n",
    "tweets = tweepy.Cursor(api.search, q=searchTerm, lang=\"English\").items(NoOfTerms)\n",
    "\n",
    "#Three variable which will store polarity so we can calculate the avg of positive negative and neutral   \n",
    "positive = 0\n",
    "negative = 0\n",
    "neutral = 0\n",
    "#This is avg result of search tweets\n",
    "polarity = 0\n",
    "\n",
    "for tweet in tweets:\n",
    "    #print (tweet.text)   #print tweet's text\n",
    "    analysis = TextBlob(tweet.text)\n",
    "    polarity += analysis.sentiment.polarity\n",
    "    \n",
    "    if(analysis.sentiment.polarity==0):\n",
    "        neutral +=1\n",
    "        \n",
    "    elif(analysis.sentiment.polarity<0.00):\n",
    "        negative +=1\n",
    "        \n",
    "    elif(analysis.sentiment.polarity>0.00):\n",
    "        positive +=1\n",
    "        \n",
    "#For calculate the percentage        \n",
    "positive = percentage(positive, NoOfTerms )\n",
    "negative = percentage(negative, NoOfTerms ) \n",
    "neutral = percentage(neutral, NoOfTerms ) \n",
    "\n",
    "#For percentage, percentage will contain how many decimal point \n",
    "positive = format(positive, '.2f')\n",
    "negative = format(negative, '.2f')\n",
    "neutral = format(neutral, '.2f')\n",
    "\n",
    "#For printout the result\n",
    "print(\"How people are reacting on \" + searchTerm + \" by analyzing \" + str(NoOfTerms) + \" Tweets\")\n",
    "if(polarity ==0):\n",
    "    print(\"Neutral\")\n",
    "\n",
    "if(polarity < 0):\n",
    "    print(\"Negative\")\n",
    "\n",
    "if(polarity > 0):\n",
    "    print(\"positive\")\n",
    "\n",
    "#For print in pie chart    \n",
    "labels = ['positive['+str(positive)+'% ]', 'neutral['+str(neutral)+'%]', 'negative['+str(negative)+'% ]']  \n",
    "sizes = [positive, neutral, negative]\n",
    "colors = ['green','red','blue']\n",
    "\n",
    "patches, texts = plt.pie(sizes, colors=colors, startangle=90)\n",
    "\n",
    "plt.legend(patches, labels, loc=\"best\")\n",
    "plt.title(\"How people are reacting on \" + searchTerm + \" by analyzing \" + str(NoOfTerms) + \" Tweets.\")\n",
    "\n",
    "plt.axis('equal')\n",
    "plt.tight_layout()\n",
    "plt.show()\n",
    "\n"
   ]
  }
 ],
 "metadata": {
  "kernelspec": {
   "display_name": "Python 3",
   "language": "python",
   "name": "python3"
  },
  "language_info": {
   "codemirror_mode": {
    "name": "ipython",
    "version": 3
   },
   "file_extension": ".py",
   "mimetype": "text/x-python",
   "name": "python",
   "nbconvert_exporter": "python",
   "pygments_lexer": "ipython3",
   "version": "3.6.5"
  }
 },
 "nbformat": 4,
 "nbformat_minor": 2
}
